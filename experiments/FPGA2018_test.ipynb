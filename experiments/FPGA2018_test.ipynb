{
 "cells": [
  {
   "cell_type": "code",
   "execution_count": 1,
   "metadata": {},
   "outputs": [],
   "source": [
    "import tensorflow as tf\n",
    "import numpy as np\n",
    "import time\n",
    "import os\n",
    "os.environ['TF_CPP_MIN_LOG_LEVEL'] = '3' "
   ]
  },
  {
   "cell_type": "code",
   "execution_count": 2,
   "metadata": {},
   "outputs": [],
   "source": [
    "image_tensor = tf.placeholder(tf.float32, shape=[100, 227, 227, 3], name='input_tensor')\n",
    "kernel_tensor = tf.placeholder(tf.float32, shape=[11, 11, 3, 96], name='kernel_tensor')\n",
    "conv2d_out = tf.nn.conv2d(image_tensor, kernel_tensor, strides=[1, 4, 4, 1], padding='VALID', name='output')"
   ]
  },
  {
   "cell_type": "code",
   "execution_count": 3,
   "metadata": {
    "collapsed": true
   },
   "outputs": [],
   "source": [
    "def run_conv2d(sess, image, kernel):\n",
    "    out = sess.run([conv2d_out], feed_dict={image_tensor:image, kernel_tensor:kernel})\n",
    "    return out"
   ]
  },
  {
   "cell_type": "code",
   "execution_count": 10,
   "metadata": {},
   "outputs": [
    {
     "name": "stdout",
     "output_type": "stream",
     "text": [
      "58.25999999999887 ms\n"
     ]
    }
   ],
   "source": [
    "sess = tf.Session()\n",
    "sess.run(tf.global_variables_initializer())\n",
    "image = np.random.randn(100, 227, 227, 3)\n",
    "kernel = np.random.randn(11, 11, 3, 96)\n",
    "start = time.clock()\n",
    "run_conv2d(sess, image, kernel)\n",
    "end = time.clock()\n",
    "print((end - start)*1000, 'ms')"
   ]
  },
  {
   "cell_type": "code",
   "execution_count": 6,
   "metadata": {},
   "outputs": [
    {
     "name": "stdout",
     "output_type": "stream",
     "text": [
      "10 loops, best of 3: 57.2 ms per loop\n"
     ]
    }
   ],
   "source": [
    "%timeit run_conv2d(sess, image, kernel)"
   ]
  },
  {
   "cell_type": "code",
   "execution_count": null,
   "metadata": {
    "collapsed": true
   },
   "outputs": [],
   "source": []
  }
 ],
 "metadata": {
  "kernelspec": {
   "display_name": "Python 3",
   "language": "python",
   "name": "python3"
  },
  "language_info": {
   "codemirror_mode": {
    "name": "ipython",
    "version": 3
   },
   "file_extension": ".py",
   "mimetype": "text/x-python",
   "name": "python",
   "nbconvert_exporter": "python",
   "pygments_lexer": "ipython3",
   "version": "3.5.3"
  }
 },
 "nbformat": 4,
 "nbformat_minor": 2
}
